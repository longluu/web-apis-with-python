{
 "cells": [
  {
   "cell_type": "code",
   "execution_count": 9,
   "metadata": {},
   "outputs": [
    {
     "name": "stdout",
     "output_type": "stream",
     "text": [
      "Time:0.9788510799407959\n"
     ]
    }
   ],
   "source": [
    "import aiohttp\n",
    "import time\n",
    "import asyncio\n",
    "import requests\n",
    "\n",
    "URLS = []\n",
    "n = 1000\n",
    "for i in range(n):\n",
    "    URLS.append(\"http://127.0.0.1:8000\")\n",
    "\n",
    "async def test(URL):\n",
    "    async with aiohttp.ClientSession() as session:\n",
    "        async with session.post(URL) as resp:\n",
    "            return await resp.text()\n",
    "\n",
    "start = time.time()\n",
    "\n",
    "loop = asyncio.get_event_loop()\n",
    "results = await asyncio.gather(*[loop.create_task(test(URL)) for URL in URLS], return_exceptions=True)\n",
    "\n",
    "print(f\"Time:{time.time()-start}\")"
   ]
  }
 ],
 "metadata": {
  "interpreter": {
   "hash": "48f872bd0c4a6f2b1eea0e14b2df768e8eee1a61d4db3934f2a3185ab0a66386"
  },
  "kernelspec": {
   "display_name": "Python 3.9.0 ('venv': venv)",
   "language": "python",
   "name": "python3"
  },
  "language_info": {
   "codemirror_mode": {
    "name": "ipython",
    "version": 3
   },
   "file_extension": ".py",
   "mimetype": "text/x-python",
   "name": "python",
   "nbconvert_exporter": "python",
   "pygments_lexer": "ipython3",
   "version": "3.9.0"
  },
  "orig_nbformat": 4
 },
 "nbformat": 4,
 "nbformat_minor": 2
}
