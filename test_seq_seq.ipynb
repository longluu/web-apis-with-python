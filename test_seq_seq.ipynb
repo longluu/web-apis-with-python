{
 "cells": [
  {
   "cell_type": "markdown",
   "metadata": {},
   "source": [
    "# Test home page"
   ]
  },
  {
   "cell_type": "code",
   "execution_count": 10,
   "metadata": {},
   "outputs": [
    {
     "name": "stdout",
     "output_type": "stream",
     "text": [
      "Time:2.2683918476104736\n"
     ]
    }
   ],
   "source": [
    "import aiohttp\n",
    "import time\n",
    "import asyncio\n",
    "import requests\n",
    "\n",
    "URL = \"http://127.0.0.1:8000\"\n",
    "start = time.time()\n",
    "results = []\n",
    "\n",
    "for i in range(1000):\n",
    "    results.append(requests.post(URL).content)\n",
    "\n",
    "print(f\"Time:{time.time()-start}\")"
   ]
  },
  {
   "cell_type": "markdown",
   "metadata": {},
   "source": [
    "# Test image filter"
   ]
  },
  {
   "cell_type": "code",
   "execution_count": 17,
   "metadata": {},
   "outputs": [
    {
     "data": {
      "text/plain": [
       "{'filters_available': ['blur',\n",
       "  'contour',\n",
       "  'detail',\n",
       "  'edge_enhance',\n",
       "  'edge_enhance_more',\n",
       "  'emboss',\n",
       "  'find_edges',\n",
       "  'sharpen',\n",
       "  'smooth',\n",
       "  'smooth_more'],\n",
       " 'usage': {'http_method': 'POST', 'URL': '/<filter_available>/'}}"
      ]
     },
     "execution_count": 17,
     "metadata": {},
     "output_type": "execute_result"
    }
   ],
   "source": [
    "import json\n",
    "\n",
    "# Test request home page\n",
    "URL = \"http://127.0.0.1:8000\"\n",
    "response = requests.post(URL)\n",
    "json.loads(response.content.decode(\"utf-8\"))"
   ]
  },
  {
   "cell_type": "code",
   "execution_count": 19,
   "metadata": {},
   "outputs": [
    {
     "data": {
      "text/plain": [
       "<bound method Response.raise_for_status of <Response [422]>>"
      ]
     },
     "execution_count": 19,
     "metadata": {},
     "output_type": "execute_result"
    }
   ],
   "source": [
    "from PIL import Image\n",
    "import io\n",
    "\n",
    "# Test filter 1 image\n",
    "file = {\"image\": open(\"sample.jpg\", \"rb\")}\n",
    "headers = {\"type\": \"multipart/image\"}\n",
    "filter = \"contour\"\n",
    "\n",
    "response = requests.post(f\"{URL}/{filter}\", files=file)\n",
    "response.raise_for_status\n",
    "\n",
    "# image = Image.open(io.BytesIO(response.content))\n",
    "# image.show()"
   ]
  }
 ],
 "metadata": {
  "interpreter": {
   "hash": "48f872bd0c4a6f2b1eea0e14b2df768e8eee1a61d4db3934f2a3185ab0a66386"
  },
  "kernelspec": {
   "display_name": "Python 3.9.0 ('venv': venv)",
   "language": "python",
   "name": "python3"
  },
  "language_info": {
   "codemirror_mode": {
    "name": "ipython",
    "version": 3
   },
   "file_extension": ".py",
   "mimetype": "text/x-python",
   "name": "python",
   "nbconvert_exporter": "python",
   "pygments_lexer": "ipython3",
   "version": "3.9.0"
  },
  "orig_nbformat": 4
 },
 "nbformat": 4,
 "nbformat_minor": 2
}
